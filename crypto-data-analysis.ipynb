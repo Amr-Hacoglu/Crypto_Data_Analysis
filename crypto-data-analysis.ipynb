{
 "cells": [
  {
   "cell_type": "code",
   "execution_count": 1,
   "id": "b40ac8d7",
   "metadata": {
    "execution": {
     "iopub.execute_input": "2024-05-19T18:39:37.088176Z",
     "iopub.status.busy": "2024-05-19T18:39:37.087577Z",
     "iopub.status.idle": "2024-05-19T18:39:39.426994Z",
     "shell.execute_reply": "2024-05-19T18:39:39.425629Z"
    },
    "papermill": {
     "duration": 2.349979,
     "end_time": "2024-05-19T18:39:39.429988",
     "exception": false,
     "start_time": "2024-05-19T18:39:37.080009",
     "status": "completed"
    },
    "tags": []
   },
   "outputs": [],
   "source": [
    "import pandas as pd\n",
    "import seaborn as sns\n",
    "import matplotlib.pyplot as plt"
   ]
  },
  {
   "cell_type": "code",
   "execution_count": 2,
   "id": "51742ba5",
   "metadata": {
    "execution": {
     "iopub.execute_input": "2024-05-19T18:39:39.441086Z",
     "iopub.status.busy": "2024-05-19T18:39:39.440388Z",
     "iopub.status.idle": "2024-05-19T18:39:39.618146Z",
     "shell.execute_reply": "2024-05-19T18:39:39.616924Z"
    },
    "papermill": {
     "duration": 0.186464,
     "end_time": "2024-05-19T18:39:39.621104",
     "exception": false,
     "start_time": "2024-05-19T18:39:39.434640",
     "status": "completed"
    },
    "tags": []
   },
   "outputs": [],
   "source": [
    "df = pd.read_csv('/kaggle/input/crypto-data/Crypto.csv')"
   ]
  },
  {
   "cell_type": "code",
   "execution_count": 3,
   "id": "7a189c82",
   "metadata": {
    "execution": {
     "iopub.execute_input": "2024-05-19T18:39:39.631363Z",
     "iopub.status.busy": "2024-05-19T18:39:39.630831Z",
     "iopub.status.idle": "2024-05-19T18:39:39.666746Z",
     "shell.execute_reply": "2024-05-19T18:39:39.665799Z"
    },
    "papermill": {
     "duration": 0.043946,
     "end_time": "2024-05-19T18:39:39.669244",
     "exception": false,
     "start_time": "2024-05-19T18:39:39.625298",
     "status": "completed"
    },
    "tags": []
   },
   "outputs": [
    {
     "data": {
      "text/html": [
       "<div>\n",
       "<style scoped>\n",
       "    .dataframe tbody tr th:only-of-type {\n",
       "        vertical-align: middle;\n",
       "    }\n",
       "\n",
       "    .dataframe tbody tr th {\n",
       "        vertical-align: top;\n",
       "    }\n",
       "\n",
       "    .dataframe thead th {\n",
       "        text-align: right;\n",
       "    }\n",
       "</style>\n",
       "<table border=\"1\" class=\"dataframe\">\n",
       "  <thead>\n",
       "    <tr style=\"text-align: right;\">\n",
       "      <th></th>\n",
       "      <th>name</th>\n",
       "      <th>abbr</th>\n",
       "      <th>crypturl</th>\n",
       "      <th>price</th>\n",
       "      <th>volume24hrs</th>\n",
       "      <th>marketcap</th>\n",
       "      <th>circulatingsupply</th>\n",
       "      <th>maxsupply</th>\n",
       "      <th>totalsupply</th>\n",
       "      <th>date_taken</th>\n",
       "      <th>Unnamed: 10</th>\n",
       "      <th>Unnamed: 11</th>\n",
       "    </tr>\n",
       "  </thead>\n",
       "  <tbody>\n",
       "    <tr>\n",
       "      <th>0</th>\n",
       "      <td>Bitcoin</td>\n",
       "      <td>BTC</td>\n",
       "      <td>https://crypto.com/price/bitcoin</td>\n",
       "      <td>62732.6700</td>\n",
       "      <td>272076.9766</td>\n",
       "      <td>2,51,418.65</td>\n",
       "      <td>3.065439e+06</td>\n",
       "      <td>8.760525e+08</td>\n",
       "      <td>437497786.1</td>\n",
       "      <td>09-08-2007</td>\n",
       "      <td>NaN</td>\n",
       "      <td>NaN</td>\n",
       "    </tr>\n",
       "    <tr>\n",
       "      <th>1</th>\n",
       "      <td>Ethereum</td>\n",
       "      <td>ETH</td>\n",
       "      <td>https://crypto.com/price/ethereum</td>\n",
       "      <td>3027.2200</td>\n",
       "      <td>981408.7883</td>\n",
       "      <td>5,02,924.62</td>\n",
       "      <td>2.326224e+06</td>\n",
       "      <td>4.440828e+08</td>\n",
       "      <td>705224728.4</td>\n",
       "      <td>13-12-2007</td>\n",
       "      <td>NaN</td>\n",
       "      <td>NaN</td>\n",
       "    </tr>\n",
       "    <tr>\n",
       "      <th>2</th>\n",
       "      <td>Tether</td>\n",
       "      <td>USDT</td>\n",
       "      <td>https://crypto.com/price/tether</td>\n",
       "      <td>0.9999</td>\n",
       "      <td>944792.0394</td>\n",
       "      <td>8,15,637.23</td>\n",
       "      <td>2.207000e+06</td>\n",
       "      <td>6.045101e+08</td>\n",
       "      <td>716566396.6</td>\n",
       "      <td>03-03-2004</td>\n",
       "      <td>NaN</td>\n",
       "      <td>NaN</td>\n",
       "    </tr>\n",
       "    <tr>\n",
       "      <th>3</th>\n",
       "      <td>BNB</td>\n",
       "      <td>BNB</td>\n",
       "      <td>https://crypto.com/price/bnb</td>\n",
       "      <td>593.8500</td>\n",
       "      <td>556334.5330</td>\n",
       "      <td>3,23,746.05</td>\n",
       "      <td>2.400147e+05</td>\n",
       "      <td>1.504519e+08</td>\n",
       "      <td>685308596.6</td>\n",
       "      <td>06-06-2001</td>\n",
       "      <td>NaN</td>\n",
       "      <td>NaN</td>\n",
       "    </tr>\n",
       "    <tr>\n",
       "      <th>4</th>\n",
       "      <td>Solana</td>\n",
       "      <td>SOL</td>\n",
       "      <td>https://crypto.com/price/solana</td>\n",
       "      <td>152.5900</td>\n",
       "      <td>866929.0575</td>\n",
       "      <td>8,05,143.57</td>\n",
       "      <td>2.957790e+06</td>\n",
       "      <td>2.842805e+08</td>\n",
       "      <td>647877254.0</td>\n",
       "      <td>06-08-2019</td>\n",
       "      <td>NaN</td>\n",
       "      <td>NaN</td>\n",
       "    </tr>\n",
       "    <tr>\n",
       "      <th>5</th>\n",
       "      <td>USD Coin</td>\n",
       "      <td>USDC</td>\n",
       "      <td>https://crypto.com/price/usd-coin</td>\n",
       "      <td>1.0000</td>\n",
       "      <td>771464.2376</td>\n",
       "      <td>8,33,864.39</td>\n",
       "      <td>2.180035e+06</td>\n",
       "      <td>5.585818e+08</td>\n",
       "      <td>336092471.7</td>\n",
       "      <td>25-06-2007</td>\n",
       "      <td>NaN</td>\n",
       "      <td>NaN</td>\n",
       "    </tr>\n",
       "    <tr>\n",
       "      <th>6</th>\n",
       "      <td>XRP</td>\n",
       "      <td>XRP</td>\n",
       "      <td>https://crypto.com/price/xrp</td>\n",
       "      <td>0.5173</td>\n",
       "      <td>136132.6532</td>\n",
       "      <td>3,23,475.77</td>\n",
       "      <td>3.100948e+06</td>\n",
       "      <td>8.579002e+08</td>\n",
       "      <td>808459526.5</td>\n",
       "      <td>04-07-2000</td>\n",
       "      <td>NaN</td>\n",
       "      <td>NaN</td>\n",
       "    </tr>\n",
       "    <tr>\n",
       "      <th>7</th>\n",
       "      <td>Toncoin</td>\n",
       "      <td>TONCOIN</td>\n",
       "      <td>https://crypto.com/price/toncoin</td>\n",
       "      <td>6.6400</td>\n",
       "      <td>926236.1651</td>\n",
       "      <td>9,92,150.85</td>\n",
       "      <td>2.680586e+06</td>\n",
       "      <td>5.780902e+06</td>\n",
       "      <td>904600636.3</td>\n",
       "      <td>04-12-2012</td>\n",
       "      <td>NaN</td>\n",
       "      <td>NaN</td>\n",
       "    </tr>\n",
       "    <tr>\n",
       "      <th>8</th>\n",
       "      <td>Dogecoin</td>\n",
       "      <td>DOGE</td>\n",
       "      <td>https://crypto.com/price/dogecoin</td>\n",
       "      <td>0.1509</td>\n",
       "      <td>919698.0808</td>\n",
       "      <td>5,35,294.04</td>\n",
       "      <td>4.078418e+06</td>\n",
       "      <td>4.488936e+08</td>\n",
       "      <td>276603635.7</td>\n",
       "      <td>23-02-2016</td>\n",
       "      <td>NaN</td>\n",
       "      <td>NaN</td>\n",
       "    </tr>\n",
       "    <tr>\n",
       "      <th>9</th>\n",
       "      <td>Cardano</td>\n",
       "      <td>ADA</td>\n",
       "      <td>https://crypto.com/price/cardano</td>\n",
       "      <td>0.4643</td>\n",
       "      <td>774687.7486</td>\n",
       "      <td>1,10,692.81</td>\n",
       "      <td>7.723547e+05</td>\n",
       "      <td>9.279325e+08</td>\n",
       "      <td>423873393.5</td>\n",
       "      <td>15-08-2004</td>\n",
       "      <td>NaN</td>\n",
       "      <td>NaN</td>\n",
       "    </tr>\n",
       "  </tbody>\n",
       "</table>\n",
       "</div>"
      ],
      "text/plain": [
       "       name     abbr                           crypturl       price  \\\n",
       "0   Bitcoin      BTC   https://crypto.com/price/bitcoin  62732.6700   \n",
       "1  Ethereum      ETH  https://crypto.com/price/ethereum   3027.2200   \n",
       "2    Tether     USDT    https://crypto.com/price/tether      0.9999   \n",
       "3       BNB      BNB       https://crypto.com/price/bnb    593.8500   \n",
       "4    Solana      SOL    https://crypto.com/price/solana    152.5900   \n",
       "5  USD Coin     USDC  https://crypto.com/price/usd-coin      1.0000   \n",
       "6       XRP      XRP       https://crypto.com/price/xrp      0.5173   \n",
       "7   Toncoin  TONCOIN   https://crypto.com/price/toncoin      6.6400   \n",
       "8  Dogecoin     DOGE  https://crypto.com/price/dogecoin      0.1509   \n",
       "9   Cardano      ADA   https://crypto.com/price/cardano      0.4643   \n",
       "\n",
       "   volume24hrs    marketcap  circulatingsupply     maxsupply  totalsupply  \\\n",
       "0  272076.9766  2,51,418.65       3.065439e+06  8.760525e+08  437497786.1   \n",
       "1  981408.7883  5,02,924.62       2.326224e+06  4.440828e+08  705224728.4   \n",
       "2  944792.0394  8,15,637.23       2.207000e+06  6.045101e+08  716566396.6   \n",
       "3  556334.5330  3,23,746.05       2.400147e+05  1.504519e+08  685308596.6   \n",
       "4  866929.0575  8,05,143.57       2.957790e+06  2.842805e+08  647877254.0   \n",
       "5  771464.2376  8,33,864.39       2.180035e+06  5.585818e+08  336092471.7   \n",
       "6  136132.6532  3,23,475.77       3.100948e+06  8.579002e+08  808459526.5   \n",
       "7  926236.1651  9,92,150.85       2.680586e+06  5.780902e+06  904600636.3   \n",
       "8  919698.0808  5,35,294.04       4.078418e+06  4.488936e+08  276603635.7   \n",
       "9  774687.7486  1,10,692.81       7.723547e+05  9.279325e+08  423873393.5   \n",
       "\n",
       "   date_taken  Unnamed: 10  Unnamed: 11  \n",
       "0  09-08-2007          NaN          NaN  \n",
       "1  13-12-2007          NaN          NaN  \n",
       "2  03-03-2004          NaN          NaN  \n",
       "3  06-06-2001          NaN          NaN  \n",
       "4  06-08-2019          NaN          NaN  \n",
       "5  25-06-2007          NaN          NaN  \n",
       "6  04-07-2000          NaN          NaN  \n",
       "7  04-12-2012          NaN          NaN  \n",
       "8  23-02-2016          NaN          NaN  \n",
       "9  15-08-2004          NaN          NaN  "
      ]
     },
     "execution_count": 3,
     "metadata": {},
     "output_type": "execute_result"
    }
   ],
   "source": [
    "df.head(10)"
   ]
  },
  {
   "cell_type": "code",
   "execution_count": 4,
   "id": "4252fea8",
   "metadata": {
    "execution": {
     "iopub.execute_input": "2024-05-19T18:39:39.680673Z",
     "iopub.status.busy": "2024-05-19T18:39:39.679968Z",
     "iopub.status.idle": "2024-05-19T18:39:39.718835Z",
     "shell.execute_reply": "2024-05-19T18:39:39.717634Z"
    },
    "papermill": {
     "duration": 0.047887,
     "end_time": "2024-05-19T18:39:39.721751",
     "exception": false,
     "start_time": "2024-05-19T18:39:39.673864",
     "status": "completed"
    },
    "tags": []
   },
   "outputs": [
    {
     "name": "stdout",
     "output_type": "stream",
     "text": [
      "<class 'pandas.core.frame.DataFrame'>\n",
      "RangeIndex: 21347 entries, 0 to 21346\n",
      "Data columns (total 12 columns):\n",
      " #   Column             Non-Null Count  Dtype  \n",
      "---  ------             --------------  -----  \n",
      " 0   name               21347 non-null  object \n",
      " 1   abbr               21347 non-null  object \n",
      " 2   crypturl           21347 non-null  object \n",
      " 3   price              21347 non-null  float64\n",
      " 4   volume24hrs        21347 non-null  float64\n",
      " 5   marketcap          21347 non-null  object \n",
      " 6   circulatingsupply  21347 non-null  float64\n",
      " 7   maxsupply          21347 non-null  float64\n",
      " 8   totalsupply        21347 non-null  float64\n",
      " 9   date_taken         21347 non-null  object \n",
      " 10  Unnamed: 10        0 non-null      float64\n",
      " 11  Unnamed: 11        0 non-null      float64\n",
      "dtypes: float64(7), object(5)\n",
      "memory usage: 2.0+ MB\n"
     ]
    }
   ],
   "source": [
    "df.info()"
   ]
  },
  {
   "cell_type": "code",
   "execution_count": 5,
   "id": "b0ac5087",
   "metadata": {
    "execution": {
     "iopub.execute_input": "2024-05-19T18:39:39.733601Z",
     "iopub.status.busy": "2024-05-19T18:39:39.732911Z",
     "iopub.status.idle": "2024-05-19T18:39:39.754134Z",
     "shell.execute_reply": "2024-05-19T18:39:39.752997Z"
    },
    "papermill": {
     "duration": 0.029859,
     "end_time": "2024-05-19T18:39:39.756509",
     "exception": false,
     "start_time": "2024-05-19T18:39:39.726650",
     "status": "completed"
    },
    "tags": []
   },
   "outputs": [
    {
     "data": {
      "text/plain": [
       "name                     0\n",
       "abbr                     0\n",
       "crypturl                 0\n",
       "price                    0\n",
       "volume24hrs              0\n",
       "marketcap                0\n",
       "circulatingsupply        0\n",
       "maxsupply                0\n",
       "totalsupply              0\n",
       "date_taken               0\n",
       "Unnamed: 10          21347\n",
       "Unnamed: 11          21347\n",
       "dtype: int64"
      ]
     },
     "execution_count": 5,
     "metadata": {},
     "output_type": "execute_result"
    }
   ],
   "source": [
    "df.isnull().sum()"
   ]
  },
  {
   "cell_type": "code",
   "execution_count": 6,
   "id": "06916596",
   "metadata": {
    "execution": {
     "iopub.execute_input": "2024-05-19T18:39:39.768037Z",
     "iopub.status.busy": "2024-05-19T18:39:39.767636Z",
     "iopub.status.idle": "2024-05-19T18:39:39.778097Z",
     "shell.execute_reply": "2024-05-19T18:39:39.777083Z"
    },
    "papermill": {
     "duration": 0.019512,
     "end_time": "2024-05-19T18:39:39.780951",
     "exception": false,
     "start_time": "2024-05-19T18:39:39.761439",
     "status": "completed"
    },
    "tags": []
   },
   "outputs": [],
   "source": [
    "# Drop the columns 'Unnamed: 10' and 'Unnamed: 11'\n",
    "df = df.drop(['Unnamed: 10', 'Unnamed: 11'], axis=1)"
   ]
  },
  {
   "cell_type": "code",
   "execution_count": 7,
   "id": "c9cef48b",
   "metadata": {
    "execution": {
     "iopub.execute_input": "2024-05-19T18:39:39.792380Z",
     "iopub.status.busy": "2024-05-19T18:39:39.791955Z",
     "iopub.status.idle": "2024-05-19T18:39:39.829524Z",
     "shell.execute_reply": "2024-05-19T18:39:39.828676Z"
    },
    "papermill": {
     "duration": 0.046281,
     "end_time": "2024-05-19T18:39:39.832147",
     "exception": false,
     "start_time": "2024-05-19T18:39:39.785866",
     "status": "completed"
    },
    "tags": []
   },
   "outputs": [],
   "source": [
    "df = df.drop_duplicates()"
   ]
  },
  {
   "cell_type": "code",
   "execution_count": 8,
   "id": "899d82c4",
   "metadata": {
    "execution": {
     "iopub.execute_input": "2024-05-19T18:39:39.844107Z",
     "iopub.status.busy": "2024-05-19T18:39:39.843504Z",
     "iopub.status.idle": "2024-05-19T18:39:39.967035Z",
     "shell.execute_reply": "2024-05-19T18:39:39.965865Z"
    },
    "papermill": {
     "duration": 0.132912,
     "end_time": "2024-05-19T18:39:39.970113",
     "exception": false,
     "start_time": "2024-05-19T18:39:39.837201",
     "status": "completed"
    },
    "tags": []
   },
   "outputs": [],
   "source": [
    "# Convert 'date_taken' to datetime with the correct format\n",
    "df['date_taken'] = pd.to_datetime(df['date_taken'], format='%d-%m-%Y')\n",
    "\n",
    "# Convert 'marketcap' to numeric (remove commas first)\n",
    "df['marketcap'] = df['marketcap'].str.replace(',', '').astype(float)"
   ]
  },
  {
   "cell_type": "code",
   "execution_count": 9,
   "id": "e885cebc",
   "metadata": {
    "execution": {
     "iopub.execute_input": "2024-05-19T18:39:39.982787Z",
     "iopub.status.busy": "2024-05-19T18:39:39.981563Z",
     "iopub.status.idle": "2024-05-19T18:39:40.003260Z",
     "shell.execute_reply": "2024-05-19T18:39:40.001762Z"
    },
    "papermill": {
     "duration": 0.030984,
     "end_time": "2024-05-19T18:39:40.006183",
     "exception": false,
     "start_time": "2024-05-19T18:39:39.975199",
     "status": "completed"
    },
    "tags": []
   },
   "outputs": [
    {
     "name": "stdout",
     "output_type": "stream",
     "text": [
      "<class 'pandas.core.frame.DataFrame'>\n",
      "RangeIndex: 21347 entries, 0 to 21346\n",
      "Data columns (total 10 columns):\n",
      " #   Column             Non-Null Count  Dtype         \n",
      "---  ------             --------------  -----         \n",
      " 0   name               21347 non-null  object        \n",
      " 1   abbr               21347 non-null  object        \n",
      " 2   crypturl           21347 non-null  object        \n",
      " 3   price              21347 non-null  float64       \n",
      " 4   volume24hrs        21347 non-null  float64       \n",
      " 5   marketcap          21347 non-null  float64       \n",
      " 6   circulatingsupply  21347 non-null  float64       \n",
      " 7   maxsupply          21347 non-null  float64       \n",
      " 8   totalsupply        21347 non-null  float64       \n",
      " 9   date_taken         21347 non-null  datetime64[ns]\n",
      "dtypes: datetime64[ns](1), float64(6), object(3)\n",
      "memory usage: 1.6+ MB\n"
     ]
    }
   ],
   "source": [
    "df.info()"
   ]
  },
  {
   "cell_type": "code",
   "execution_count": null,
   "id": "dd779e1c",
   "metadata": {
    "papermill": {
     "duration": 0.004835,
     "end_time": "2024-05-19T18:39:40.016115",
     "exception": false,
     "start_time": "2024-05-19T18:39:40.011280",
     "status": "completed"
    },
    "tags": []
   },
   "outputs": [],
   "source": []
  }
 ],
 "metadata": {
  "kaggle": {
   "accelerator": "none",
   "dataSources": [
    {
     "datasetId": 4989221,
     "sourceId": 8419577,
     "sourceType": "datasetVersion"
    }
   ],
   "dockerImageVersionId": 30698,
   "isGpuEnabled": false,
   "isInternetEnabled": true,
   "language": "python",
   "sourceType": "notebook"
  },
  "kernelspec": {
   "display_name": "Python 3",
   "language": "python",
   "name": "python3"
  },
  "language_info": {
   "codemirror_mode": {
    "name": "ipython",
    "version": 3
   },
   "file_extension": ".py",
   "mimetype": "text/x-python",
   "name": "python",
   "nbconvert_exporter": "python",
   "pygments_lexer": "ipython3",
   "version": "3.10.13"
  },
  "papermill": {
   "default_parameters": {},
   "duration": 6.662856,
   "end_time": "2024-05-19T18:39:40.644079",
   "environment_variables": {},
   "exception": null,
   "input_path": "__notebook__.ipynb",
   "output_path": "__notebook__.ipynb",
   "parameters": {},
   "start_time": "2024-05-19T18:39:33.981223",
   "version": "2.5.0"
  }
 },
 "nbformat": 4,
 "nbformat_minor": 5
}
